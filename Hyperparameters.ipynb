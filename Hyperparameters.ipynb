{
 "cells": [
  {
   "cell_type": "markdown",
   "id": "632d153e",
   "metadata": {},
   "source": [
    "# Hyperparameter selection\n",
    "\n",
    "### Classifier selected: Gradient Boosting\n",
    "\n",
    "Description: The script will select the best performing hyperparameters. The final result is the log_loss representing how close the prediction probability is to the corresponding actual/true value. Important: this is not the log loss of the final trained model because for hyperparameter selection, no external validation is done. The final result is expected to be slightly worse than the here obtained log_loss.\n",
    "\n",
    "Author: Caroline Risoud\n",
    "\n",
    "License:\n",
    "\n",
    "Last update date: 23.10.2021\n"
   ]
  },
  {
   "cell_type": "code",
   "execution_count": 8,
   "id": "51d82dec",
   "metadata": {},
   "outputs": [],
   "source": [
    "import pandas as pd\n",
    "\n",
    "from sklearn.model_selection import RandomizedSearchCV\n",
    "from sklearn.metrics import log_loss\n",
    "\n",
    "import xgboost as xgb\n",
    "\n",
    "from scipy.stats import randint\n",
    "\n",
    "from sklearn.metrics import accuracy_score, precision_recall_fscore_support\n",
    "\n",
    "import matplotlib.pyplot as plt\n",
    "import matplotlib"
   ]
  },
  {
   "cell_type": "code",
   "execution_count": 2,
   "id": "cf4aacc4",
   "metadata": {},
   "outputs": [],
   "source": [
    "%store -r X_train_validate_rev\n",
    "%store -r y_train_validate_rev\n",
    "%store -r X_test_rev\n",
    "%store -r y_test_rev"
   ]
  },
  {
   "cell_type": "markdown",
   "id": "1546288a",
   "metadata": {},
   "source": [
    "### Randomized search to find the best performing hyperparameters"
   ]
  },
  {
   "cell_type": "code",
   "execution_count": 24,
   "id": "e05b3661",
   "metadata": {},
   "outputs": [],
   "source": [
    "# definition of the gradient boosting classifier\n",
    "# a random state of 42 is specified for reproducibility purpose\n",
    "clf = xgb.XGBClassifier(n_jobs=-1, random_state=42, use_label_encoder =False,\n",
    "                        objective='multi:softprob', eval_metric='mlogloss')\n",
    "\n",
    "\n",
    "#specify parameters and distributions to sample from\n",
    "#here we propose limited parameters to limit the running time of the hyperparameter search\n",
    "\n",
    "param_dist_clf = {\n",
    "                'max_depth': randint(5,6),\n",
    "                'n_estimators': randint(300, 310),\n",
    "                'gamma': randint(2,3),\n",
    "                'min_child_weight': randint(2,3),\n",
    "                'max_delta_step': randint(2,3)}"
   ]
  },
  {
   "cell_type": "code",
   "execution_count": 25,
   "id": "dd719fbc",
   "metadata": {},
   "outputs": [],
   "source": [
    "# number of iteration - we start with one iteration and increase it afterwards\n",
    "n_iter_search_clf = 1\n",
    "\n",
    "# defining given parameters for the randomized search\n",
    "random_search_clf = RandomizedSearchCV(clf, \n",
    "                                       param_distributions = param_dist_clf,\n",
    "                                       cv = 5,\n",
    "                                       n_iter = n_iter_search_clf,\n",
    "                                       scoring = 'neg_log_loss')"
   ]
  },
  {
   "cell_type": "code",
   "execution_count": 26,
   "id": "b67ed144",
   "metadata": {},
   "outputs": [],
   "source": [
    "# ----------- THIS SECTION MAY TAKE A FEW MINUTES (2-4 min) TO RUN ---------------------\n",
    "\n",
    "\n",
    "# performing the randomized search\n",
    "random_search_clf.fit(X_train_validate_rev, y_train_validate_rev)\n",
    "\n",
    "\n",
    "# printing the best performing parameters\n",
    "clf = random_search_clf.best_estimator_"
   ]
  },
  {
   "cell_type": "code",
   "execution_count": 27,
   "id": "a0ccbe89",
   "metadata": {},
   "outputs": [
    {
     "data": {
      "text/plain": [
       "0.15345155836824453"
      ]
     },
     "execution_count": 27,
     "metadata": {},
     "output_type": "execute_result"
    }
   ],
   "source": [
    "# Calculating the log loss\n",
    "\n",
    "pred_probaclf = clf.predict_proba(X_test_rev)\n",
    "\n",
    "log_loss(y_test_rev, pred_probaclf)"
   ]
  },
  {
   "cell_type": "code",
   "execution_count": null,
   "id": "c97dbf6a",
   "metadata": {},
   "outputs": [],
   "source": []
  }
 ],
 "metadata": {
  "kernelspec": {
   "display_name": "Python 3 (ipykernel)",
   "language": "python",
   "name": "python3"
  },
  "language_info": {
   "codemirror_mode": {
    "name": "ipython",
    "version": 3
   },
   "file_extension": ".py",
   "mimetype": "text/x-python",
   "name": "python",
   "nbconvert_exporter": "python",
   "pygments_lexer": "ipython3",
   "version": "3.9.7"
  }
 },
 "nbformat": 4,
 "nbformat_minor": 5
}
